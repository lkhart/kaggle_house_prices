{
  "nbformat": 4,
  "nbformat_minor": 0,
  "metadata": {
    "colab": {
      "name": "regression_models.ipynb",
      "provenance": [],
      "collapsed_sections": [],
      "toc_visible": true,
      "authorship_tag": "ABX9TyOQLyGuupv9wv6uAeQ387z+",
      "include_colab_link": true
    },
    "kernelspec": {
      "name": "python3",
      "display_name": "Python 3"
    },
    "language_info": {
      "name": "python"
    }
  },
  "cells": [
    {
      "cell_type": "markdown",
      "metadata": {
        "id": "view-in-github",
        "colab_type": "text"
      },
      "source": [
        "<a href=\"https://colab.research.google.com/github/lkhart/kaggle_house_prices/blob/main/regression_models.ipynb\" target=\"_parent\"><img src=\"https://colab.research.google.com/assets/colab-badge.svg\" alt=\"Open In Colab\"/></a>"
      ]
    },
    {
      "cell_type": "markdown",
      "source": [
        "# **House Price Regression Modeling**\n",
        "\n",
        "#### [Kaggle Competition Entry](https://www.kaggle.com/c/house-prices-advanced-regression-techniques/overview/description)/Class Assignment \n",
        "#### Laura Hart - MSDS 422 - Winter 2022\n",
        "\n",
        "The objective of this exercise is to predict sale price of homes in Ames, Iowa given the available training data. In previous sections, we conducted an exploratory analysis of the provided data and created features to prepare the data for modeling, and we tested performance of linear regression models on this data. Now, we will look at three additional regression modeling techniques:\n",
        "\n",
        "\n",
        "*   Lasso \n",
        "*   Ridge\n",
        "*   ElasticNet\n",
        "\n"
      ],
      "metadata": {
        "id": "QuPuRzfjSmcZ"
      }
    },
    {
      "cell_type": "markdown",
      "source": [
        "## Setup\n"
      ],
      "metadata": {
        "id": "_dpcBXSJTYKI"
      }
    },
    {
      "cell_type": "code",
      "execution_count": 46,
      "metadata": {
        "id": "nPxZExt2Sfkr"
      },
      "outputs": [],
      "source": [
        "import pandas as pd\n",
        "import numpy as np\n",
        "import matplotlib.pyplot as plt\n",
        "import seaborn as sns\n",
        "from sklearn import datasets\n",
        "from sklearn.preprocessing import MinMaxScaler, StandardScaler, PolynomialFeatures\n",
        "from sklearn.model_selection import train_test_split, cross_val_score, KFold, GridSearchCV, RepeatedKFold\n",
        "from sklearn.pipeline import make_pipeline\n",
        "from sklearn.linear_model import Lasso, Ridge, ElasticNet\n",
        "from sklearn import metrics\n",
        "from google.colab import files"
      ]
    },
    {
      "cell_type": "code",
      "source": [
        "# remove cloned repo if exists\n",
        "# !rm -r kaggle_house_prices"
      ],
      "metadata": {
        "id": "YsElAHJefJt0"
      },
      "execution_count": 25,
      "outputs": []
    },
    {
      "cell_type": "code",
      "source": [
        "# clone git repo\n",
        "!git clone 'https://github.com/lkhart/kaggle_house_prices.git'"
      ],
      "metadata": {
        "colab": {
          "base_uri": "https://localhost:8080/"
        },
        "id": "OfwFYlzLXMjj",
        "outputId": "f462f7a2-82ca-4f91-9479-d72a6e48c3d5"
      },
      "execution_count": 2,
      "outputs": [
        {
          "output_type": "stream",
          "name": "stdout",
          "text": [
            "Cloning into 'kaggle_house_prices'...\n",
            "remote: Enumerating objects: 39, done.\u001b[K\n",
            "remote: Counting objects: 100% (39/39), done.\u001b[K\n",
            "remote: Compressing objects: 100% (36/36), done.\u001b[K\n",
            "remote: Total 39 (delta 17), reused 0 (delta 0), pack-reused 0\u001b[K\n",
            "Unpacking objects: 100% (39/39), done.\n"
          ]
        }
      ]
    },
    {
      "cell_type": "code",
      "source": [
        "# run data prep notebook\n",
        "%run kaggle_house_prices/data_prep.ipynb"
      ],
      "metadata": {
        "colab": {
          "base_uri": "https://localhost:8080/"
        },
        "id": "SJAYq8VgXafr",
        "outputId": "d15ca0c3-f911-4ef0-e7c0-9bc6a6c73990"
      },
      "execution_count": 3,
      "outputs": [
        {
          "output_type": "stream",
          "name": "stdout",
          "text": [
            "(1460, 81)\n",
            "(1459, 80)\n"
          ]
        }
      ]
    },
    {
      "cell_type": "code",
      "source": [
        "train_df_prepped.head()"
      ],
      "metadata": {
        "colab": {
          "base_uri": "https://localhost:8080/",
          "height": 357
        },
        "id": "SHpCi-OlX6bH",
        "outputId": "53d1c41a-fd4e-4f6a-9a68-f4fa9317b8a6"
      },
      "execution_count": 4,
      "outputs": [
        {
          "output_type": "execute_result",
          "data": {
            "text/html": [
              "\n",
              "  <div id=\"df-870172cc-94d8-4493-96a3-c0f8d9fe10c7\">\n",
              "    <div class=\"colab-df-container\">\n",
              "      <div>\n",
              "<style scoped>\n",
              "    .dataframe tbody tr th:only-of-type {\n",
              "        vertical-align: middle;\n",
              "    }\n",
              "\n",
              "    .dataframe tbody tr th {\n",
              "        vertical-align: top;\n",
              "    }\n",
              "\n",
              "    .dataframe thead th {\n",
              "        text-align: right;\n",
              "    }\n",
              "</style>\n",
              "<table border=\"1\" class=\"dataframe\">\n",
              "  <thead>\n",
              "    <tr style=\"text-align: right;\">\n",
              "      <th></th>\n",
              "      <th>Id</th>\n",
              "      <th>MSZoning</th>\n",
              "      <th>Neighborhood</th>\n",
              "      <th>OverallQual</th>\n",
              "      <th>MasVnrType</th>\n",
              "      <th>ExterQual</th>\n",
              "      <th>Foundation</th>\n",
              "      <th>BsmtQual</th>\n",
              "      <th>TotalBsmtSF</th>\n",
              "      <th>HeatingQC</th>\n",
              "      <th>CentralAir</th>\n",
              "      <th>1stFlrSF</th>\n",
              "      <th>GrLivArea</th>\n",
              "      <th>KitchenQual</th>\n",
              "      <th>FireplaceQu</th>\n",
              "      <th>GarageType</th>\n",
              "      <th>GarageFinish</th>\n",
              "      <th>GarageCars</th>\n",
              "      <th>GarageArea</th>\n",
              "      <th>SalePrice</th>\n",
              "      <th>YearBuiltBin</th>\n",
              "      <th>TotRmsBin</th>\n",
              "      <th>HasPool</th>\n",
              "      <th>NumFam</th>\n",
              "      <th>RelativeCond</th>\n",
              "      <th>LastRemod</th>\n",
              "      <th>TotalFullBath</th>\n",
              "      <th>HasWoodDeck</th>\n",
              "      <th>HasOpenPorch</th>\n",
              "      <th>HasEnclosedPorch</th>\n",
              "      <th>HasScreenPorch</th>\n",
              "      <th>PartialSale</th>\n",
              "    </tr>\n",
              "  </thead>\n",
              "  <tbody>\n",
              "    <tr>\n",
              "      <th>0</th>\n",
              "      <td>1</td>\n",
              "      <td>RL</td>\n",
              "      <td>CollgCr</td>\n",
              "      <td>7</td>\n",
              "      <td>BrkFace</td>\n",
              "      <td>Gd</td>\n",
              "      <td>PConc</td>\n",
              "      <td>Gd</td>\n",
              "      <td>856</td>\n",
              "      <td>Ex</td>\n",
              "      <td>Y</td>\n",
              "      <td>856</td>\n",
              "      <td>1710</td>\n",
              "      <td>Gd</td>\n",
              "      <td>None</td>\n",
              "      <td>Attchd</td>\n",
              "      <td>RFn</td>\n",
              "      <td>2</td>\n",
              "      <td>548</td>\n",
              "      <td>208500</td>\n",
              "      <td>2000-2005</td>\n",
              "      <td>6-8</td>\n",
              "      <td>0</td>\n",
              "      <td>Single</td>\n",
              "      <td>Above Average</td>\n",
              "      <td>Since1980</td>\n",
              "      <td>3</td>\n",
              "      <td>0</td>\n",
              "      <td>1</td>\n",
              "      <td>0</td>\n",
              "      <td>0</td>\n",
              "      <td>0</td>\n",
              "    </tr>\n",
              "    <tr>\n",
              "      <th>1</th>\n",
              "      <td>2</td>\n",
              "      <td>RL</td>\n",
              "      <td>Veenker</td>\n",
              "      <td>6</td>\n",
              "      <td>None</td>\n",
              "      <td>TA</td>\n",
              "      <td>CBlock</td>\n",
              "      <td>Gd</td>\n",
              "      <td>1262</td>\n",
              "      <td>Ex</td>\n",
              "      <td>Y</td>\n",
              "      <td>1262</td>\n",
              "      <td>1262</td>\n",
              "      <td>TA</td>\n",
              "      <td>TA</td>\n",
              "      <td>Attchd</td>\n",
              "      <td>RFn</td>\n",
              "      <td>2</td>\n",
              "      <td>460</td>\n",
              "      <td>181500</td>\n",
              "      <td>1960-79</td>\n",
              "      <td>6-8</td>\n",
              "      <td>0</td>\n",
              "      <td>Single</td>\n",
              "      <td>Above Average</td>\n",
              "      <td>Pre1980</td>\n",
              "      <td>2</td>\n",
              "      <td>1</td>\n",
              "      <td>0</td>\n",
              "      <td>0</td>\n",
              "      <td>0</td>\n",
              "      <td>0</td>\n",
              "    </tr>\n",
              "    <tr>\n",
              "      <th>2</th>\n",
              "      <td>3</td>\n",
              "      <td>RL</td>\n",
              "      <td>CollgCr</td>\n",
              "      <td>7</td>\n",
              "      <td>BrkFace</td>\n",
              "      <td>Gd</td>\n",
              "      <td>PConc</td>\n",
              "      <td>Gd</td>\n",
              "      <td>920</td>\n",
              "      <td>Ex</td>\n",
              "      <td>Y</td>\n",
              "      <td>920</td>\n",
              "      <td>1786</td>\n",
              "      <td>Gd</td>\n",
              "      <td>TA</td>\n",
              "      <td>Attchd</td>\n",
              "      <td>RFn</td>\n",
              "      <td>2</td>\n",
              "      <td>608</td>\n",
              "      <td>223500</td>\n",
              "      <td>2000-2005</td>\n",
              "      <td>6-8</td>\n",
              "      <td>0</td>\n",
              "      <td>Single</td>\n",
              "      <td>Above Average</td>\n",
              "      <td>Since1980</td>\n",
              "      <td>3</td>\n",
              "      <td>0</td>\n",
              "      <td>1</td>\n",
              "      <td>0</td>\n",
              "      <td>0</td>\n",
              "      <td>0</td>\n",
              "    </tr>\n",
              "    <tr>\n",
              "      <th>3</th>\n",
              "      <td>4</td>\n",
              "      <td>RL</td>\n",
              "      <td>Crawfor</td>\n",
              "      <td>7</td>\n",
              "      <td>None</td>\n",
              "      <td>TA</td>\n",
              "      <td>BrkTil</td>\n",
              "      <td>TA</td>\n",
              "      <td>756</td>\n",
              "      <td>Gd</td>\n",
              "      <td>Y</td>\n",
              "      <td>961</td>\n",
              "      <td>1717</td>\n",
              "      <td>Gd</td>\n",
              "      <td>Gd</td>\n",
              "      <td>Detchd</td>\n",
              "      <td>Unf</td>\n",
              "      <td>3</td>\n",
              "      <td>642</td>\n",
              "      <td>140000</td>\n",
              "      <td>pre-1960</td>\n",
              "      <td>6-8</td>\n",
              "      <td>0</td>\n",
              "      <td>Single</td>\n",
              "      <td>Above Average</td>\n",
              "      <td>Pre1980</td>\n",
              "      <td>2</td>\n",
              "      <td>0</td>\n",
              "      <td>1</td>\n",
              "      <td>1</td>\n",
              "      <td>0</td>\n",
              "      <td>0</td>\n",
              "    </tr>\n",
              "    <tr>\n",
              "      <th>4</th>\n",
              "      <td>5</td>\n",
              "      <td>RL</td>\n",
              "      <td>NoRidge</td>\n",
              "      <td>8</td>\n",
              "      <td>BrkFace</td>\n",
              "      <td>Gd</td>\n",
              "      <td>PConc</td>\n",
              "      <td>Gd</td>\n",
              "      <td>1145</td>\n",
              "      <td>Ex</td>\n",
              "      <td>Y</td>\n",
              "      <td>1145</td>\n",
              "      <td>2198</td>\n",
              "      <td>Gd</td>\n",
              "      <td>TA</td>\n",
              "      <td>Attchd</td>\n",
              "      <td>RFn</td>\n",
              "      <td>3</td>\n",
              "      <td>836</td>\n",
              "      <td>250000</td>\n",
              "      <td>2000-2005</td>\n",
              "      <td>9 or more</td>\n",
              "      <td>0</td>\n",
              "      <td>Single</td>\n",
              "      <td>Above Average</td>\n",
              "      <td>Since1980</td>\n",
              "      <td>3</td>\n",
              "      <td>1</td>\n",
              "      <td>1</td>\n",
              "      <td>0</td>\n",
              "      <td>0</td>\n",
              "      <td>0</td>\n",
              "    </tr>\n",
              "  </tbody>\n",
              "</table>\n",
              "</div>\n",
              "      <button class=\"colab-df-convert\" onclick=\"convertToInteractive('df-870172cc-94d8-4493-96a3-c0f8d9fe10c7')\"\n",
              "              title=\"Convert this dataframe to an interactive table.\"\n",
              "              style=\"display:none;\">\n",
              "        \n",
              "  <svg xmlns=\"http://www.w3.org/2000/svg\" height=\"24px\"viewBox=\"0 0 24 24\"\n",
              "       width=\"24px\">\n",
              "    <path d=\"M0 0h24v24H0V0z\" fill=\"none\"/>\n",
              "    <path d=\"M18.56 5.44l.94 2.06.94-2.06 2.06-.94-2.06-.94-.94-2.06-.94 2.06-2.06.94zm-11 1L8.5 8.5l.94-2.06 2.06-.94-2.06-.94L8.5 2.5l-.94 2.06-2.06.94zm10 10l.94 2.06.94-2.06 2.06-.94-2.06-.94-.94-2.06-.94 2.06-2.06.94z\"/><path d=\"M17.41 7.96l-1.37-1.37c-.4-.4-.92-.59-1.43-.59-.52 0-1.04.2-1.43.59L10.3 9.45l-7.72 7.72c-.78.78-.78 2.05 0 2.83L4 21.41c.39.39.9.59 1.41.59.51 0 1.02-.2 1.41-.59l7.78-7.78 2.81-2.81c.8-.78.8-2.07 0-2.86zM5.41 20L4 18.59l7.72-7.72 1.47 1.35L5.41 20z\"/>\n",
              "  </svg>\n",
              "      </button>\n",
              "      \n",
              "  <style>\n",
              "    .colab-df-container {\n",
              "      display:flex;\n",
              "      flex-wrap:wrap;\n",
              "      gap: 12px;\n",
              "    }\n",
              "\n",
              "    .colab-df-convert {\n",
              "      background-color: #E8F0FE;\n",
              "      border: none;\n",
              "      border-radius: 50%;\n",
              "      cursor: pointer;\n",
              "      display: none;\n",
              "      fill: #1967D2;\n",
              "      height: 32px;\n",
              "      padding: 0 0 0 0;\n",
              "      width: 32px;\n",
              "    }\n",
              "\n",
              "    .colab-df-convert:hover {\n",
              "      background-color: #E2EBFA;\n",
              "      box-shadow: 0px 1px 2px rgba(60, 64, 67, 0.3), 0px 1px 3px 1px rgba(60, 64, 67, 0.15);\n",
              "      fill: #174EA6;\n",
              "    }\n",
              "\n",
              "    [theme=dark] .colab-df-convert {\n",
              "      background-color: #3B4455;\n",
              "      fill: #D2E3FC;\n",
              "    }\n",
              "\n",
              "    [theme=dark] .colab-df-convert:hover {\n",
              "      background-color: #434B5C;\n",
              "      box-shadow: 0px 1px 3px 1px rgba(0, 0, 0, 0.15);\n",
              "      filter: drop-shadow(0px 1px 2px rgba(0, 0, 0, 0.3));\n",
              "      fill: #FFFFFF;\n",
              "    }\n",
              "  </style>\n",
              "\n",
              "      <script>\n",
              "        const buttonEl =\n",
              "          document.querySelector('#df-870172cc-94d8-4493-96a3-c0f8d9fe10c7 button.colab-df-convert');\n",
              "        buttonEl.style.display =\n",
              "          google.colab.kernel.accessAllowed ? 'block' : 'none';\n",
              "\n",
              "        async function convertToInteractive(key) {\n",
              "          const element = document.querySelector('#df-870172cc-94d8-4493-96a3-c0f8d9fe10c7');\n",
              "          const dataTable =\n",
              "            await google.colab.kernel.invokeFunction('convertToInteractive',\n",
              "                                                     [key], {});\n",
              "          if (!dataTable) return;\n",
              "\n",
              "          const docLinkHtml = 'Like what you see? Visit the ' +\n",
              "            '<a target=\"_blank\" href=https://colab.research.google.com/notebooks/data_table.ipynb>data table notebook</a>'\n",
              "            + ' to learn more about interactive tables.';\n",
              "          element.innerHTML = '';\n",
              "          dataTable['output_type'] = 'display_data';\n",
              "          await google.colab.output.renderOutput(dataTable, element);\n",
              "          const docLink = document.createElement('div');\n",
              "          docLink.innerHTML = docLinkHtml;\n",
              "          element.appendChild(docLink);\n",
              "        }\n",
              "      </script>\n",
              "    </div>\n",
              "  </div>\n",
              "  "
            ],
            "text/plain": [
              "   Id MSZoning Neighborhood  ...  HasEnclosedPorch HasScreenPorch PartialSale\n",
              "0   1       RL      CollgCr  ...                 0              0           0\n",
              "1   2       RL      Veenker  ...                 0              0           0\n",
              "2   3       RL      CollgCr  ...                 0              0           0\n",
              "3   4       RL      Crawfor  ...                 1              0           0\n",
              "4   5       RL      NoRidge  ...                 0              0           0\n",
              "\n",
              "[5 rows x 32 columns]"
            ]
          },
          "metadata": {},
          "execution_count": 4
        }
      ]
    },
    {
      "cell_type": "code",
      "source": [
        "test_df_prepped.head()"
      ],
      "metadata": {
        "colab": {
          "base_uri": "https://localhost:8080/",
          "height": 357
        },
        "id": "deBkzu8NZ7Qr",
        "outputId": "d8379554-de54-4b5b-fc71-f427af2e4718"
      },
      "execution_count": 5,
      "outputs": [
        {
          "output_type": "execute_result",
          "data": {
            "text/html": [
              "\n",
              "  <div id=\"df-681a8811-7379-412b-a3a9-6304c3dfef55\">\n",
              "    <div class=\"colab-df-container\">\n",
              "      <div>\n",
              "<style scoped>\n",
              "    .dataframe tbody tr th:only-of-type {\n",
              "        vertical-align: middle;\n",
              "    }\n",
              "\n",
              "    .dataframe tbody tr th {\n",
              "        vertical-align: top;\n",
              "    }\n",
              "\n",
              "    .dataframe thead th {\n",
              "        text-align: right;\n",
              "    }\n",
              "</style>\n",
              "<table border=\"1\" class=\"dataframe\">\n",
              "  <thead>\n",
              "    <tr style=\"text-align: right;\">\n",
              "      <th></th>\n",
              "      <th>Id</th>\n",
              "      <th>TotalBsmtSF</th>\n",
              "      <th>1stFlrSF</th>\n",
              "      <th>GarageArea</th>\n",
              "      <th>GrLivArea</th>\n",
              "      <th>MSZoning</th>\n",
              "      <th>Neighborhood</th>\n",
              "      <th>OverallQual</th>\n",
              "      <th>MasVnrType</th>\n",
              "      <th>ExterQual</th>\n",
              "      <th>Foundation</th>\n",
              "      <th>BsmtQual</th>\n",
              "      <th>HeatingQC</th>\n",
              "      <th>CentralAir</th>\n",
              "      <th>KitchenQual</th>\n",
              "      <th>FireplaceQu</th>\n",
              "      <th>GarageType</th>\n",
              "      <th>GarageFinish</th>\n",
              "      <th>GarageCars</th>\n",
              "      <th>HasPool</th>\n",
              "      <th>YearBuiltBin</th>\n",
              "      <th>NumFam</th>\n",
              "      <th>RelativeCond</th>\n",
              "      <th>LastRemod</th>\n",
              "      <th>TotalFullBath</th>\n",
              "      <th>TotRmsBin</th>\n",
              "      <th>HasWoodDeck</th>\n",
              "      <th>HasOpenPorch</th>\n",
              "      <th>HasEnclosedPorch</th>\n",
              "      <th>HasScreenPorch</th>\n",
              "      <th>PartialSale</th>\n",
              "    </tr>\n",
              "  </thead>\n",
              "  <tbody>\n",
              "    <tr>\n",
              "      <th>0</th>\n",
              "      <td>1461</td>\n",
              "      <td>882.0</td>\n",
              "      <td>896</td>\n",
              "      <td>730.0</td>\n",
              "      <td>896</td>\n",
              "      <td>RH</td>\n",
              "      <td>NAmes</td>\n",
              "      <td>5</td>\n",
              "      <td>None</td>\n",
              "      <td>TA</td>\n",
              "      <td>CBlock</td>\n",
              "      <td>TA</td>\n",
              "      <td>TA</td>\n",
              "      <td>Y</td>\n",
              "      <td>TA</td>\n",
              "      <td>None</td>\n",
              "      <td>Attchd</td>\n",
              "      <td>Unf</td>\n",
              "      <td>1.0</td>\n",
              "      <td>0</td>\n",
              "      <td>1960-79</td>\n",
              "      <td>Single</td>\n",
              "      <td>Above Average</td>\n",
              "      <td>Pre1980</td>\n",
              "      <td>1.0</td>\n",
              "      <td>5 or fewer</td>\n",
              "      <td>1</td>\n",
              "      <td>0</td>\n",
              "      <td>0</td>\n",
              "      <td>1</td>\n",
              "      <td>0</td>\n",
              "    </tr>\n",
              "    <tr>\n",
              "      <th>1</th>\n",
              "      <td>1462</td>\n",
              "      <td>1329.0</td>\n",
              "      <td>1329</td>\n",
              "      <td>312.0</td>\n",
              "      <td>1329</td>\n",
              "      <td>RL</td>\n",
              "      <td>NAmes</td>\n",
              "      <td>6</td>\n",
              "      <td>BrkFace</td>\n",
              "      <td>TA</td>\n",
              "      <td>CBlock</td>\n",
              "      <td>TA</td>\n",
              "      <td>TA</td>\n",
              "      <td>Y</td>\n",
              "      <td>Gd</td>\n",
              "      <td>None</td>\n",
              "      <td>Attchd</td>\n",
              "      <td>Unf</td>\n",
              "      <td>1.0</td>\n",
              "      <td>0</td>\n",
              "      <td>pre-1960</td>\n",
              "      <td>Single</td>\n",
              "      <td>Above Average</td>\n",
              "      <td>Pre1980</td>\n",
              "      <td>1.0</td>\n",
              "      <td>6-8</td>\n",
              "      <td>1</td>\n",
              "      <td>1</td>\n",
              "      <td>0</td>\n",
              "      <td>0</td>\n",
              "      <td>0</td>\n",
              "    </tr>\n",
              "    <tr>\n",
              "      <th>2</th>\n",
              "      <td>1463</td>\n",
              "      <td>928.0</td>\n",
              "      <td>928</td>\n",
              "      <td>482.0</td>\n",
              "      <td>1629</td>\n",
              "      <td>RL</td>\n",
              "      <td>Gilbert</td>\n",
              "      <td>5</td>\n",
              "      <td>None</td>\n",
              "      <td>TA</td>\n",
              "      <td>PConc</td>\n",
              "      <td>Gd</td>\n",
              "      <td>Gd</td>\n",
              "      <td>Y</td>\n",
              "      <td>TA</td>\n",
              "      <td>TA</td>\n",
              "      <td>Attchd</td>\n",
              "      <td>Fin</td>\n",
              "      <td>2.0</td>\n",
              "      <td>0</td>\n",
              "      <td>1980-1999</td>\n",
              "      <td>Single</td>\n",
              "      <td>Above Average</td>\n",
              "      <td>Since1980</td>\n",
              "      <td>2.0</td>\n",
              "      <td>6-8</td>\n",
              "      <td>1</td>\n",
              "      <td>1</td>\n",
              "      <td>0</td>\n",
              "      <td>0</td>\n",
              "      <td>0</td>\n",
              "    </tr>\n",
              "    <tr>\n",
              "      <th>3</th>\n",
              "      <td>1464</td>\n",
              "      <td>926.0</td>\n",
              "      <td>926</td>\n",
              "      <td>470.0</td>\n",
              "      <td>1604</td>\n",
              "      <td>RL</td>\n",
              "      <td>Gilbert</td>\n",
              "      <td>6</td>\n",
              "      <td>BrkFace</td>\n",
              "      <td>TA</td>\n",
              "      <td>PConc</td>\n",
              "      <td>TA</td>\n",
              "      <td>Ex</td>\n",
              "      <td>Y</td>\n",
              "      <td>Gd</td>\n",
              "      <td>Gd</td>\n",
              "      <td>Attchd</td>\n",
              "      <td>Fin</td>\n",
              "      <td>2.0</td>\n",
              "      <td>0</td>\n",
              "      <td>1980-1999</td>\n",
              "      <td>Single</td>\n",
              "      <td>Above Average</td>\n",
              "      <td>Since1980</td>\n",
              "      <td>2.0</td>\n",
              "      <td>6-8</td>\n",
              "      <td>1</td>\n",
              "      <td>1</td>\n",
              "      <td>0</td>\n",
              "      <td>0</td>\n",
              "      <td>0</td>\n",
              "    </tr>\n",
              "    <tr>\n",
              "      <th>4</th>\n",
              "      <td>1465</td>\n",
              "      <td>1280.0</td>\n",
              "      <td>1280</td>\n",
              "      <td>506.0</td>\n",
              "      <td>1280</td>\n",
              "      <td>RL</td>\n",
              "      <td>StoneBr</td>\n",
              "      <td>8</td>\n",
              "      <td>None</td>\n",
              "      <td>Gd</td>\n",
              "      <td>PConc</td>\n",
              "      <td>Gd</td>\n",
              "      <td>Ex</td>\n",
              "      <td>Y</td>\n",
              "      <td>Gd</td>\n",
              "      <td>None</td>\n",
              "      <td>Attchd</td>\n",
              "      <td>RFn</td>\n",
              "      <td>2.0</td>\n",
              "      <td>0</td>\n",
              "      <td>1980-1999</td>\n",
              "      <td>Single</td>\n",
              "      <td>Above Average</td>\n",
              "      <td>Since1980</td>\n",
              "      <td>2.0</td>\n",
              "      <td>5 or fewer</td>\n",
              "      <td>0</td>\n",
              "      <td>1</td>\n",
              "      <td>0</td>\n",
              "      <td>1</td>\n",
              "      <td>0</td>\n",
              "    </tr>\n",
              "  </tbody>\n",
              "</table>\n",
              "</div>\n",
              "      <button class=\"colab-df-convert\" onclick=\"convertToInteractive('df-681a8811-7379-412b-a3a9-6304c3dfef55')\"\n",
              "              title=\"Convert this dataframe to an interactive table.\"\n",
              "              style=\"display:none;\">\n",
              "        \n",
              "  <svg xmlns=\"http://www.w3.org/2000/svg\" height=\"24px\"viewBox=\"0 0 24 24\"\n",
              "       width=\"24px\">\n",
              "    <path d=\"M0 0h24v24H0V0z\" fill=\"none\"/>\n",
              "    <path d=\"M18.56 5.44l.94 2.06.94-2.06 2.06-.94-2.06-.94-.94-2.06-.94 2.06-2.06.94zm-11 1L8.5 8.5l.94-2.06 2.06-.94-2.06-.94L8.5 2.5l-.94 2.06-2.06.94zm10 10l.94 2.06.94-2.06 2.06-.94-2.06-.94-.94-2.06-.94 2.06-2.06.94z\"/><path d=\"M17.41 7.96l-1.37-1.37c-.4-.4-.92-.59-1.43-.59-.52 0-1.04.2-1.43.59L10.3 9.45l-7.72 7.72c-.78.78-.78 2.05 0 2.83L4 21.41c.39.39.9.59 1.41.59.51 0 1.02-.2 1.41-.59l7.78-7.78 2.81-2.81c.8-.78.8-2.07 0-2.86zM5.41 20L4 18.59l7.72-7.72 1.47 1.35L5.41 20z\"/>\n",
              "  </svg>\n",
              "      </button>\n",
              "      \n",
              "  <style>\n",
              "    .colab-df-container {\n",
              "      display:flex;\n",
              "      flex-wrap:wrap;\n",
              "      gap: 12px;\n",
              "    }\n",
              "\n",
              "    .colab-df-convert {\n",
              "      background-color: #E8F0FE;\n",
              "      border: none;\n",
              "      border-radius: 50%;\n",
              "      cursor: pointer;\n",
              "      display: none;\n",
              "      fill: #1967D2;\n",
              "      height: 32px;\n",
              "      padding: 0 0 0 0;\n",
              "      width: 32px;\n",
              "    }\n",
              "\n",
              "    .colab-df-convert:hover {\n",
              "      background-color: #E2EBFA;\n",
              "      box-shadow: 0px 1px 2px rgba(60, 64, 67, 0.3), 0px 1px 3px 1px rgba(60, 64, 67, 0.15);\n",
              "      fill: #174EA6;\n",
              "    }\n",
              "\n",
              "    [theme=dark] .colab-df-convert {\n",
              "      background-color: #3B4455;\n",
              "      fill: #D2E3FC;\n",
              "    }\n",
              "\n",
              "    [theme=dark] .colab-df-convert:hover {\n",
              "      background-color: #434B5C;\n",
              "      box-shadow: 0px 1px 3px 1px rgba(0, 0, 0, 0.15);\n",
              "      filter: drop-shadow(0px 1px 2px rgba(0, 0, 0, 0.3));\n",
              "      fill: #FFFFFF;\n",
              "    }\n",
              "  </style>\n",
              "\n",
              "      <script>\n",
              "        const buttonEl =\n",
              "          document.querySelector('#df-681a8811-7379-412b-a3a9-6304c3dfef55 button.colab-df-convert');\n",
              "        buttonEl.style.display =\n",
              "          google.colab.kernel.accessAllowed ? 'block' : 'none';\n",
              "\n",
              "        async function convertToInteractive(key) {\n",
              "          const element = document.querySelector('#df-681a8811-7379-412b-a3a9-6304c3dfef55');\n",
              "          const dataTable =\n",
              "            await google.colab.kernel.invokeFunction('convertToInteractive',\n",
              "                                                     [key], {});\n",
              "          if (!dataTable) return;\n",
              "\n",
              "          const docLinkHtml = 'Like what you see? Visit the ' +\n",
              "            '<a target=\"_blank\" href=https://colab.research.google.com/notebooks/data_table.ipynb>data table notebook</a>'\n",
              "            + ' to learn more about interactive tables.';\n",
              "          element.innerHTML = '';\n",
              "          dataTable['output_type'] = 'display_data';\n",
              "          await google.colab.output.renderOutput(dataTable, element);\n",
              "          const docLink = document.createElement('div');\n",
              "          docLink.innerHTML = docLinkHtml;\n",
              "          element.appendChild(docLink);\n",
              "        }\n",
              "      </script>\n",
              "    </div>\n",
              "  </div>\n",
              "  "
            ],
            "text/plain": [
              "     Id  TotalBsmtSF  1stFlrSF  ...  HasEnclosedPorch  HasScreenPorch PartialSale\n",
              "0  1461        882.0       896  ...                 0               1           0\n",
              "1  1462       1329.0      1329  ...                 0               0           0\n",
              "2  1463        928.0       928  ...                 0               0           0\n",
              "3  1464        926.0       926  ...                 0               0           0\n",
              "4  1465       1280.0      1280  ...                 0               1           0\n",
              "\n",
              "[5 rows x 31 columns]"
            ]
          },
          "metadata": {},
          "execution_count": 5
        }
      ]
    },
    {
      "cell_type": "code",
      "source": [
        "# features to be included\n",
        "features = ['SalePrice', 'TotalBsmtSF', '1stFlrSF', 'GarageArea', 'GrLivArea', 'TotalFullBath', 'MSZoning', 'Neighborhood', 'OverallQual', 'MasVnrType', 'ExterQual', 'Foundation', 'BsmtQual', 'HeatingQC', 'CentralAir', 'KitchenQual', 'FireplaceQu', 'GarageType', 'GarageFinish', 'GarageCars', 'YearBuiltBin', 'NumFam', 'RelativeCond', 'TotalFullBath', 'TotRmsBin', 'HasPool', 'LastRemod', 'HasWoodDeck', 'HasOpenPorch', 'HasEnclosedPorch', 'HasScreenPorch', 'PartialSale']\n",
        "# features = ['SalePrice', 'TotalBsmtSF', '1stFlrSF', 'GarageArea', 'GrLivArea', 'Neighborhood', 'OverallQual','KitchenQual', 'YearBuiltBin', 'NumFam', 'RelativeCond']"
      ],
      "metadata": {
        "id": "K4OYu7Dijx0z"
      },
      "execution_count": 6,
      "outputs": []
    },
    {
      "cell_type": "code",
      "source": [
        "# define categorical variables to be included\n",
        "cat_vars = ['MSZoning', 'Neighborhood', 'OverallQual', 'MasVnrType', 'ExterQual', 'Foundation', 'BsmtQual', 'HeatingQC', 'CentralAir', 'KitchenQual', 'FireplaceQu', 'GarageType', 'GarageFinish',  'YearBuiltBin', 'NumFam', 'RelativeCond', 'TotRmsBin', 'HasPool', 'LastRemod', 'HasWoodDeck', 'HasOpenPorch', 'HasEnclosedPorch', 'HasScreenPorch', 'PartialSale']\n",
        "# cat_vars = ['Neighborhood', 'OverallQual', 'KitchenQual', 'YearBuiltBin', 'NumFam', 'RelativeCond']\n",
        "\n",
        "num_vars = ['TotalBsmtSF', '1stFlrSF', 'GarageArea', 'GrLivArea', 'GarageCars', 'TotalFullBath']"
      ],
      "metadata": {
        "id": "NdAc_6fdjIlO"
      },
      "execution_count": 7,
      "outputs": []
    },
    {
      "cell_type": "code",
      "source": [
        "# encoding cat vars as dummy variables\n",
        "\n",
        "# train\n",
        "train_df_encoded = pd.get_dummies(data=train_df_prepped[features], columns=cat_vars, drop_first=True)\n",
        "\n",
        "#test\n",
        "final_test_df = pd.get_dummies(data=test_df_prepped[features[1:]], columns=cat_vars, drop_first=True)"
      ],
      "metadata": {
        "id": "_ZOjHlWNlURa"
      },
      "execution_count": 8,
      "outputs": []
    },
    {
      "cell_type": "code",
      "source": [
        "# train test split\n",
        "X = train_df_encoded.drop(['SalePrice'], axis=1)\n",
        "y = np.log(train_df_encoded['SalePrice'])\n",
        "\n",
        "print(X.shape)\n",
        "print(y.shape)\n",
        "\n",
        "# set seed for reproducibility\n",
        "np.random.seed(100)\n",
        "X_train, X_test, y_train, y_test = train_test_split(X, y, test_size=.2)\n",
        "\n",
        "print(X_train.shape)\n",
        "print(y_train.shape)"
      ],
      "metadata": {
        "colab": {
          "base_uri": "https://localhost:8080/"
        },
        "id": "NBdja5vSmJTK",
        "outputId": "0f35343c-b875-4778-f102-372ef8f0962d"
      },
      "execution_count": 9,
      "outputs": [
        {
          "output_type": "stream",
          "name": "stdout",
          "text": [
            "(1460, 96)\n",
            "(1460,)\n",
            "(1168, 96)\n",
            "(1168,)\n"
          ]
        }
      ]
    },
    {
      "cell_type": "code",
      "source": [
        "sscaler = StandardScaler()\n",
        "\n",
        "# standard scaling on independent variables\n",
        "X_train[num_vars] = sscaler.fit_transform(X_train[num_vars])\n",
        "X_test[num_vars] = sscaler.transform(X_test[num_vars])\n",
        "\n",
        "# standard scaling for final test df\n",
        "final_test_df[num_vars] = sscaler.transform(final_test_df[num_vars])"
      ],
      "metadata": {
        "id": "vNsh_jJ7nBsH"
      },
      "execution_count": 10,
      "outputs": []
    },
    {
      "cell_type": "markdown",
      "source": [
        "# Lasso"
      ],
      "metadata": {
        "id": "HF-oRqUZYgHs"
      }
    },
    {
      "cell_type": "markdown",
      "source": [
        "#### Lasso Train"
      ],
      "metadata": {
        "id": "DB42jjm2iSrj"
      }
    },
    {
      "cell_type": "code",
      "source": [
        "# hyperparameter options for alpha\n",
        "params = {'alpha': [0.00001, 0.0001, 0.001, 0.01, 0.1]}\n",
        "\n",
        "lasso = Lasso(tol=1e-2, max_iter=100000)\n",
        "\n",
        "# cross validation\n",
        "folds = 10\n",
        "lasso_cv = GridSearchCV(estimator = lasso,\n",
        "                        param_grid = params,\n",
        "                        scoring = 'neg_mean_absolute_error',\n",
        "                        cv = folds,\n",
        "                        return_train_score = True,\n",
        "                        verbose = 1)\n",
        "\n",
        "lasso_cv.fit(X_train, y_train)"
      ],
      "metadata": {
        "id": "YORrkhMmXspS",
        "colab": {
          "base_uri": "https://localhost:8080/"
        },
        "outputId": "788bc558-d7fe-4dc8-98f3-0787ce6cbb21"
      },
      "execution_count": 11,
      "outputs": [
        {
          "output_type": "stream",
          "name": "stdout",
          "text": [
            "Fitting 10 folds for each of 5 candidates, totalling 50 fits\n"
          ]
        },
        {
          "output_type": "execute_result",
          "data": {
            "text/plain": [
              "GridSearchCV(cv=10, estimator=Lasso(max_iter=100000, tol=0.01),\n",
              "             param_grid={'alpha': [1e-05, 0.0001, 0.001, 0.01, 0.1]},\n",
              "             return_train_score=True, scoring='neg_mean_absolute_error',\n",
              "             verbose=1)"
            ]
          },
          "metadata": {},
          "execution_count": 11
        }
      ]
    },
    {
      "cell_type": "code",
      "source": [
        "print(lasso_cv.best_params_)\n",
        "print(lasso_cv.best_score_)"
      ],
      "metadata": {
        "colab": {
          "base_uri": "https://localhost:8080/"
        },
        "id": "KHq-wv5JoeXK",
        "outputId": "2f452f7e-8bb3-4edb-dd82-5da5ee374382"
      },
      "execution_count": 13,
      "outputs": [
        {
          "output_type": "stream",
          "name": "stdout",
          "text": [
            "{'alpha': 0.0001}\n",
            "-0.09870670180929497\n"
          ]
        }
      ]
    },
    {
      "cell_type": "code",
      "source": [
        "# select lasso model with best performing param alpha\n",
        "alpha = 0.0001\n",
        "\n",
        "lasso = Lasso(alpha=alpha, tol=1e-2, max_iter=100000)\n",
        "\n",
        "lasso.fit(X_train, y_train)"
      ],
      "metadata": {
        "colab": {
          "base_uri": "https://localhost:8080/"
        },
        "id": "PmmNxwOetp3W",
        "outputId": "537a8faf-c920-4300-8350-8aa62332b984"
      },
      "execution_count": 14,
      "outputs": [
        {
          "output_type": "execute_result",
          "data": {
            "text/plain": [
              "Lasso(alpha=0.0001, max_iter=100000, tol=0.01)"
            ]
          },
          "metadata": {},
          "execution_count": 14
        }
      ]
    },
    {
      "cell_type": "code",
      "source": [
        "# predict R-squared value of this model on train data\n",
        "y_train_pred = lasso.predict(X_train)\n",
        "print(metrics.r2_score(y_true=y_train, y_pred=y_train_pred))"
      ],
      "metadata": {
        "colab": {
          "base_uri": "https://localhost:8080/"
        },
        "id": "JhVtVghbuAa3",
        "outputId": "c812953e-c3d8-40ea-eb95-5528bad6ab2f"
      },
      "execution_count": 15,
      "outputs": [
        {
          "output_type": "stream",
          "name": "stdout",
          "text": [
            "0.8947222644745604\n"
          ]
        }
      ]
    },
    {
      "cell_type": "code",
      "source": [
        "# predict R-squared value of this model on test data\n",
        "y_test_pred = lasso.predict(X_test)\n",
        "print(metrics.r2_score(y_true=y_test, y_pred=y_test_pred))"
      ],
      "metadata": {
        "colab": {
          "base_uri": "https://localhost:8080/"
        },
        "id": "6YfCAxMKupUY",
        "outputId": "54447a72-b658-4d2c-b420-1425fb383500"
      },
      "execution_count": 16,
      "outputs": [
        {
          "output_type": "stream",
          "name": "stdout",
          "text": [
            "0.8619971425035967\n"
          ]
        }
      ]
    },
    {
      "cell_type": "code",
      "source": [
        "print('RMSE: ', metrics.mean_squared_error(y_test, y_test_pred))"
      ],
      "metadata": {
        "colab": {
          "base_uri": "https://localhost:8080/"
        },
        "id": "En0Y4U8Ku7jY",
        "outputId": "e5f7dee4-4a65-4fea-9cfd-62d11b891705"
      },
      "execution_count": 17,
      "outputs": [
        {
          "output_type": "stream",
          "name": "stdout",
          "text": [
            "RMSE:  0.023758776169460004\n"
          ]
        }
      ]
    },
    {
      "cell_type": "markdown",
      "source": [
        "#### Lasso Test (apply fitted model to test set)"
      ],
      "metadata": {
        "id": "PXPrKLH4iYAP"
      }
    },
    {
      "cell_type": "code",
      "source": [
        "# apply lasso model to final test df\n",
        "final_pred_lasso = lasso.predict(final_test_df)\n",
        "\n",
        "# get exponential of predictions (as they were in log form)\n",
        "final_pred_lasso = np.exp(final_pred_lasso)"
      ],
      "metadata": {
        "id": "4YZhuhbYvWNW"
      },
      "execution_count": 19,
      "outputs": []
    },
    {
      "cell_type": "code",
      "source": [
        "final_pred_lasso"
      ],
      "metadata": {
        "colab": {
          "base_uri": "https://localhost:8080/"
        },
        "id": "AizPglXd0qFZ",
        "outputId": "93758ede-0881-496c-c246-58cbdf9eab7c"
      },
      "execution_count": 20,
      "outputs": [
        {
          "output_type": "execute_result",
          "data": {
            "text/plain": [
              "array([125733.77719191, 137723.81360384, 178878.16775039, ...,\n",
              "       163510.19093393, 116213.13757134, 219190.490742  ])"
            ]
          },
          "metadata": {},
          "execution_count": 20
        }
      ]
    },
    {
      "cell_type": "code",
      "source": [
        "lassosaleprice = pd.DataFrame({'Id': test_df['Id'], 'SalePrice': final_pred_lasso})"
      ],
      "metadata": {
        "id": "pdXs3wXL0zmG"
      },
      "execution_count": 21,
      "outputs": []
    },
    {
      "cell_type": "code",
      "source": [
        "# export final predictions for submission\n",
        "lassosaleprice.to_csv('lasso_predictions.csv', index=False)\n",
        "\n",
        "files.download('lasso_predictions.csv')"
      ],
      "metadata": {
        "colab": {
          "base_uri": "https://localhost:8080/",
          "height": 17
        },
        "id": "2CWYYTXu1Ds6",
        "outputId": "149e3120-ad0e-46df-c85c-22e21fbf9253"
      },
      "execution_count": 24,
      "outputs": [
        {
          "output_type": "display_data",
          "data": {
            "application/javascript": [
              "\n",
              "    async function download(id, filename, size) {\n",
              "      if (!google.colab.kernel.accessAllowed) {\n",
              "        return;\n",
              "      }\n",
              "      const div = document.createElement('div');\n",
              "      const label = document.createElement('label');\n",
              "      label.textContent = `Downloading \"${filename}\": `;\n",
              "      div.appendChild(label);\n",
              "      const progress = document.createElement('progress');\n",
              "      progress.max = size;\n",
              "      div.appendChild(progress);\n",
              "      document.body.appendChild(div);\n",
              "\n",
              "      const buffers = [];\n",
              "      let downloaded = 0;\n",
              "\n",
              "      const channel = await google.colab.kernel.comms.open(id);\n",
              "      // Send a message to notify the kernel that we're ready.\n",
              "      channel.send({})\n",
              "\n",
              "      for await (const message of channel.messages) {\n",
              "        // Send a message to notify the kernel that we're ready.\n",
              "        channel.send({})\n",
              "        if (message.buffers) {\n",
              "          for (const buffer of message.buffers) {\n",
              "            buffers.push(buffer);\n",
              "            downloaded += buffer.byteLength;\n",
              "            progress.value = downloaded;\n",
              "          }\n",
              "        }\n",
              "      }\n",
              "      const blob = new Blob(buffers, {type: 'application/binary'});\n",
              "      const a = document.createElement('a');\n",
              "      a.href = window.URL.createObjectURL(blob);\n",
              "      a.download = filename;\n",
              "      div.appendChild(a);\n",
              "      a.click();\n",
              "      div.remove();\n",
              "    }\n",
              "  "
            ],
            "text/plain": [
              "<IPython.core.display.Javascript object>"
            ]
          },
          "metadata": {}
        },
        {
          "output_type": "display_data",
          "data": {
            "application/javascript": [
              "download(\"download_71697fb5-a5c3-49a9-b6eb-a0bed190327c\", \"lasso_predictions.csv\", 34443)"
            ],
            "text/plain": [
              "<IPython.core.display.Javascript object>"
            ]
          },
          "metadata": {}
        }
      ]
    },
    {
      "cell_type": "markdown",
      "source": [
        "![image.png](data:image/png;base64,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)"
      ],
      "metadata": {
        "id": "fLDeh0dI1pml"
      }
    },
    {
      "cell_type": "markdown",
      "source": [
        "# Ridge"
      ],
      "metadata": {
        "id": "HEv9jerfY4jZ"
      }
    },
    {
      "cell_type": "markdown",
      "source": [
        "#### Ridge Train"
      ],
      "metadata": {
        "id": "v2Kp1hlVifRZ"
      }
    },
    {
      "cell_type": "code",
      "source": [
        "# hyperparameter options for alpha\n",
        "params = {'alpha': [0.00001, 0.0001, 0.001, 0.01, 0.1, 0.5, 0.7, 1, 1.2, 1.5, 2, 3, 5, 10, 20]}\n",
        "\n",
        "ridge = Ridge(tol=1e-2, max_iter=100000)\n",
        "\n",
        "# cross validation\n",
        "folds = 10\n",
        "ridge_cv = GridSearchCV(estimator = ridge,\n",
        "                        param_grid = params,\n",
        "                        scoring = 'neg_mean_absolute_error',\n",
        "                        cv = folds,\n",
        "                        return_train_score = True,\n",
        "                        verbose = 1)\n",
        "\n",
        "ridge_cv.fit(X_train, y_train)"
      ],
      "metadata": {
        "id": "VFee8gNNY65v",
        "colab": {
          "base_uri": "https://localhost:8080/"
        },
        "outputId": "bd3bd16e-04d4-4c34-ec5d-d9b7051a28c4"
      },
      "execution_count": 29,
      "outputs": [
        {
          "output_type": "stream",
          "name": "stdout",
          "text": [
            "Fitting 10 folds for each of 15 candidates, totalling 150 fits\n"
          ]
        },
        {
          "output_type": "execute_result",
          "data": {
            "text/plain": [
              "GridSearchCV(cv=10, estimator=Ridge(max_iter=100000, tol=0.01),\n",
              "             param_grid={'alpha': [1e-05, 0.0001, 0.001, 0.01, 0.1, 0.5, 0.7, 1,\n",
              "                                   1.2, 1.5, 2, 3, 5, 10, 20]},\n",
              "             return_train_score=True, scoring='neg_mean_absolute_error',\n",
              "             verbose=1)"
            ]
          },
          "metadata": {},
          "execution_count": 29
        }
      ]
    },
    {
      "cell_type": "code",
      "source": [
        "print(ridge_cv.best_params_)\n",
        "print(ridge_cv.best_score_)"
      ],
      "metadata": {
        "colab": {
          "base_uri": "https://localhost:8080/"
        },
        "id": "1_FnNdks2gDN",
        "outputId": "3a74ec2c-52c0-4cc9-b866-9aeb4db95ced"
      },
      "execution_count": 30,
      "outputs": [
        {
          "output_type": "stream",
          "name": "stdout",
          "text": [
            "{'alpha': 1.5}\n",
            "-0.09843359107444516\n"
          ]
        }
      ]
    },
    {
      "cell_type": "code",
      "source": [
        "# select ridge model with best performing param alpha\n",
        "alpha = 1.5\n",
        "\n",
        "ridge = Ridge(alpha=alpha, tol=1e-2, max_iter=100000)\n",
        "\n",
        "ridge.fit(X_train, y_train)"
      ],
      "metadata": {
        "colab": {
          "base_uri": "https://localhost:8080/"
        },
        "id": "RybzllsN24tH",
        "outputId": "9b8ee4c7-ffc0-4ec2-d4c5-cf4654f3d3c3"
      },
      "execution_count": 31,
      "outputs": [
        {
          "output_type": "execute_result",
          "data": {
            "text/plain": [
              "Ridge(alpha=1.5, max_iter=100000, tol=0.01)"
            ]
          },
          "metadata": {},
          "execution_count": 31
        }
      ]
    },
    {
      "cell_type": "code",
      "source": [
        "# predict R-squared value of this model on train data\n",
        "y_train_pred = ridge.predict(X_train)\n",
        "print(metrics.r2_score(y_true=y_train, y_pred=y_train_pred))"
      ],
      "metadata": {
        "colab": {
          "base_uri": "https://localhost:8080/"
        },
        "id": "O0WdkgqP2-Xi",
        "outputId": "d807a510-8c1c-430c-f530-f525f116f567"
      },
      "execution_count": 32,
      "outputs": [
        {
          "output_type": "stream",
          "name": "stdout",
          "text": [
            "0.8934879347886115\n"
          ]
        }
      ]
    },
    {
      "cell_type": "code",
      "source": [
        "# predict R-squared value of this model on test data\n",
        "y_test_pred = ridge.predict(X_test)\n",
        "print(metrics.r2_score(y_true=y_test, y_pred=y_test_pred))"
      ],
      "metadata": {
        "colab": {
          "base_uri": "https://localhost:8080/"
        },
        "id": "krRefdeR3EEj",
        "outputId": "e6ea677d-5a2f-443b-bd9d-11fb0b4c3b9a"
      },
      "execution_count": 33,
      "outputs": [
        {
          "output_type": "stream",
          "name": "stdout",
          "text": [
            "0.8653503759254123\n"
          ]
        }
      ]
    },
    {
      "cell_type": "code",
      "source": [
        "print('RMSE: ', metrics.mean_squared_error(y_test, y_test_pred))"
      ],
      "metadata": {
        "colab": {
          "base_uri": "https://localhost:8080/"
        },
        "id": "0Odfy1yS3Iln",
        "outputId": "2d5f77f9-e845-4de3-de10-65ffd12d5402"
      },
      "execution_count": 34,
      "outputs": [
        {
          "output_type": "stream",
          "name": "stdout",
          "text": [
            "RMSE:  0.023181478541293536\n"
          ]
        }
      ]
    },
    {
      "cell_type": "markdown",
      "source": [
        "#### Ridge Test (apply fitted model to test set)"
      ],
      "metadata": {
        "id": "fDobVfe1idk2"
      }
    },
    {
      "cell_type": "code",
      "source": [
        "# apply ridge model to final test df\n",
        "final_pred_ridge = ridge.predict(final_test_df)\n",
        "\n",
        "# get exponential of predictions (as they were in log form)\n",
        "final_pred_ridge = np.exp(final_pred_ridge)"
      ],
      "metadata": {
        "id": "dQ8i5lK-3Q_l"
      },
      "execution_count": 35,
      "outputs": []
    },
    {
      "cell_type": "code",
      "source": [
        "ridgesaleprice = pd.DataFrame({'Id': test_df['Id'], 'SalePrice': final_pred_ridge})"
      ],
      "metadata": {
        "id": "J_tAEHrr3Z0p"
      },
      "execution_count": 36,
      "outputs": []
    },
    {
      "cell_type": "code",
      "source": [
        "# export final predictions for submission\n",
        "ridgesaleprice.to_csv('ridge_predictions.csv', index=False)\n",
        "\n",
        "files.download('ridge_predictions.csv')"
      ],
      "metadata": {
        "colab": {
          "base_uri": "https://localhost:8080/",
          "height": 17
        },
        "id": "MLctaqnG3dVC",
        "outputId": "ac4408a8-d570-4464-b8b1-0bf752164b4c"
      },
      "execution_count": 37,
      "outputs": [
        {
          "output_type": "display_data",
          "data": {
            "application/javascript": [
              "\n",
              "    async function download(id, filename, size) {\n",
              "      if (!google.colab.kernel.accessAllowed) {\n",
              "        return;\n",
              "      }\n",
              "      const div = document.createElement('div');\n",
              "      const label = document.createElement('label');\n",
              "      label.textContent = `Downloading \"${filename}\": `;\n",
              "      div.appendChild(label);\n",
              "      const progress = document.createElement('progress');\n",
              "      progress.max = size;\n",
              "      div.appendChild(progress);\n",
              "      document.body.appendChild(div);\n",
              "\n",
              "      const buffers = [];\n",
              "      let downloaded = 0;\n",
              "\n",
              "      const channel = await google.colab.kernel.comms.open(id);\n",
              "      // Send a message to notify the kernel that we're ready.\n",
              "      channel.send({})\n",
              "\n",
              "      for await (const message of channel.messages) {\n",
              "        // Send a message to notify the kernel that we're ready.\n",
              "        channel.send({})\n",
              "        if (message.buffers) {\n",
              "          for (const buffer of message.buffers) {\n",
              "            buffers.push(buffer);\n",
              "            downloaded += buffer.byteLength;\n",
              "            progress.value = downloaded;\n",
              "          }\n",
              "        }\n",
              "      }\n",
              "      const blob = new Blob(buffers, {type: 'application/binary'});\n",
              "      const a = document.createElement('a');\n",
              "      a.href = window.URL.createObjectURL(blob);\n",
              "      a.download = filename;\n",
              "      div.appendChild(a);\n",
              "      a.click();\n",
              "      div.remove();\n",
              "    }\n",
              "  "
            ],
            "text/plain": [
              "<IPython.core.display.Javascript object>"
            ]
          },
          "metadata": {}
        },
        {
          "output_type": "display_data",
          "data": {
            "application/javascript": [
              "download(\"download_a6cfad80-e8b9-4596-b1c8-49ebfb490cf4\", \"ridge_predictions.csv\", 34472)"
            ],
            "text/plain": [
              "<IPython.core.display.Javascript object>"
            ]
          },
          "metadata": {}
        }
      ]
    },
    {
      "cell_type": "markdown",
      "source": [
        "![image.png](data:image/png;base64,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)"
      ],
      "metadata": {
        "id": "wUNxgGu63jaN"
      }
    },
    {
      "cell_type": "markdown",
      "source": [
        "# ElasticNet"
      ],
      "metadata": {
        "id": "c4GUltDlY6Ie"
      }
    },
    {
      "cell_type": "markdown",
      "source": [
        "#### ElasticNet preprocessing \n",
        "One hot encoding of categorical variables + standard scaling of distributions"
      ],
      "metadata": {
        "id": "fUQxwYlJjSux"
      }
    },
    {
      "cell_type": "markdown",
      "source": [
        "#### ElasticNet Train"
      ],
      "metadata": {
        "id": "zylp4AKEijsM"
      }
    },
    {
      "cell_type": "code",
      "source": [
        "elasticnet.get_params().keys()"
      ],
      "metadata": {
        "colab": {
          "base_uri": "https://localhost:8080/"
        },
        "id": "FqTAermQ7IQM",
        "outputId": "df637a0f-63fb-4093-f310-2f65dd3f86e0"
      },
      "execution_count": 41,
      "outputs": [
        {
          "output_type": "execute_result",
          "data": {
            "text/plain": [
              "dict_keys(['alpha', 'copy_X', 'fit_intercept', 'l1_ratio', 'max_iter', 'normalize', 'positive', 'precompute', 'random_state', 'selection', 'tol', 'warm_start'])"
            ]
          },
          "metadata": {},
          "execution_count": 41
        }
      ]
    },
    {
      "cell_type": "code",
      "source": [
        "# hyperparameter options\n",
        "params = {'l1_ratio': [0.00001, 0.0001, 0.001, 0.05, 0.1, 0.15, 0.2, 0.85, 0.9, 0.95],\n",
        "          'max_iter': [1000, 10000, 100000]} \n",
        "\n",
        "elasticnet = ElasticNet()\n",
        "\n",
        "# cross validation\n",
        "cv = RepeatedKFold(n_splits=10, n_repeats=3, random_state=1)\n",
        "\n",
        "elasticnet_cv = GridSearchCV(estimator = elasticnet,\n",
        "                        param_grid = params,\n",
        "                        scoring = 'neg_mean_absolute_error',\n",
        "                        cv = cv,\n",
        "                        return_train_score = True,\n",
        "                        verbose = 1)\n",
        "\n",
        "elasticnet_cv.fit(X_train, y_train)"
      ],
      "metadata": {
        "colab": {
          "base_uri": "https://localhost:8080/"
        },
        "id": "0qW3RxsFijY6",
        "outputId": "65c2ca2e-30f5-42b5-cbc4-ec1781a08f6e"
      },
      "execution_count": 64,
      "outputs": [
        {
          "output_type": "stream",
          "name": "stdout",
          "text": [
            "Fitting 30 folds for each of 30 candidates, totalling 900 fits\n"
          ]
        },
        {
          "output_type": "execute_result",
          "data": {
            "text/plain": [
              "GridSearchCV(cv=RepeatedKFold(n_repeats=3, n_splits=10, random_state=1),\n",
              "             estimator=ElasticNet(),\n",
              "             param_grid={'l1_ratio': [1e-05, 0.0001, 0.001, 0.05, 0.1, 0.15,\n",
              "                                      0.2, 0.85, 0.9, 0.95],\n",
              "                         'max_iter': [1000, 10000, 100000]},\n",
              "             return_train_score=True, scoring='neg_mean_absolute_error',\n",
              "             verbose=1)"
            ]
          },
          "metadata": {},
          "execution_count": 64
        }
      ]
    },
    {
      "cell_type": "code",
      "source": [
        "print(elasticnet_cv.best_params_)\n",
        "print(elasticnet_cv.best_score_)"
      ],
      "metadata": {
        "id": "hVPlAJ0WY97X",
        "colab": {
          "base_uri": "https://localhost:8080/"
        },
        "outputId": "a41e717d-5610-401e-f465-1144f81d856f"
      },
      "execution_count": 65,
      "outputs": [
        {
          "output_type": "stream",
          "name": "stdout",
          "text": [
            "{'l1_ratio': 1e-05, 'max_iter': 1000}\n",
            "-0.12959785963115497\n"
          ]
        }
      ]
    },
    {
      "cell_type": "code",
      "source": [
        "# select ridge model with best performing parameters\n",
        "\n",
        "elasticnet = ElasticNet(l1_ratio=0.00001, tol=1e-2, max_iter=1000)\n",
        "\n",
        "elasticnet.fit(X_train, y_train)"
      ],
      "metadata": {
        "colab": {
          "base_uri": "https://localhost:8080/"
        },
        "id": "nKAch4dx-fft",
        "outputId": "b4a7876f-0a0f-4b8e-a964-c76836f786ff"
      },
      "execution_count": 66,
      "outputs": [
        {
          "output_type": "execute_result",
          "data": {
            "text/plain": [
              "ElasticNet(l1_ratio=1e-05, tol=0.01)"
            ]
          },
          "metadata": {},
          "execution_count": 66
        }
      ]
    },
    {
      "cell_type": "code",
      "source": [
        "# predict R-squared value of this model on train data\n",
        "y_train_pred = elasticnet.predict(X_train)\n",
        "print(metrics.r2_score(y_true=y_train, y_pred=y_train_pred))"
      ],
      "metadata": {
        "colab": {
          "base_uri": "https://localhost:8080/"
        },
        "id": "wrVb-49s-yJg",
        "outputId": "0f01dc79-aa0d-4c39-945f-31d0d867e90f"
      },
      "execution_count": 67,
      "outputs": [
        {
          "output_type": "stream",
          "name": "stdout",
          "text": [
            "0.7733266272782893\n"
          ]
        }
      ]
    },
    {
      "cell_type": "code",
      "source": [
        "# predict R-squared value of this model on test data\n",
        "y_test_pred = elasticnet.predict(X_test)\n",
        "print(metrics.r2_score(y_true=y_test, y_pred=y_test_pred))"
      ],
      "metadata": {
        "colab": {
          "base_uri": "https://localhost:8080/"
        },
        "id": "JAcOBPjs-0yw",
        "outputId": "8443a75a-0b41-4207-f201-45bd7912bf20"
      },
      "execution_count": 68,
      "outputs": [
        {
          "output_type": "stream",
          "name": "stdout",
          "text": [
            "0.760074996431818\n"
          ]
        }
      ]
    },
    {
      "cell_type": "code",
      "source": [
        "print('RMSE: ', metrics.mean_squared_error(y_test, y_test_pred))"
      ],
      "metadata": {
        "colab": {
          "base_uri": "https://localhost:8080/"
        },
        "id": "O3ukbdWd-7vq",
        "outputId": "c47fea90-a643-41f9-ecea-3c107932e16d"
      },
      "execution_count": 69,
      "outputs": [
        {
          "output_type": "stream",
          "name": "stdout",
          "text": [
            "RMSE:  0.04130584366618565\n"
          ]
        }
      ]
    },
    {
      "cell_type": "markdown",
      "source": [
        "#### ElasticNet Test (apply fitted model to test set)"
      ],
      "metadata": {
        "id": "Tn2JtilyihQv"
      }
    },
    {
      "cell_type": "code",
      "source": [
        "# apply elasticnet model to final test df\n",
        "final_pred_elasticnet = elasticnet.predict(final_test_df)\n",
        "\n",
        "# get exponential of predictions (as they were in log form)\n",
        "final_pred_elasticnet = np.exp(final_pred_elasticnet)"
      ],
      "metadata": {
        "id": "zJyCOtBP_B7Z"
      },
      "execution_count": 70,
      "outputs": []
    },
    {
      "cell_type": "code",
      "source": [
        "elasticnetsaleprice = pd.DataFrame({'Id': test_df['Id'], 'SalePrice': final_pred_elasticnet})"
      ],
      "metadata": {
        "id": "un0a2uQY_LLD"
      },
      "execution_count": 71,
      "outputs": []
    },
    {
      "cell_type": "code",
      "source": [
        "# export final predictions for submission\n",
        "elasticnetsaleprice.to_csv('elasticnet_predictions.csv', index=False)\n",
        "\n",
        "files.download('elasticnet_predictions.csv')"
      ],
      "metadata": {
        "colab": {
          "base_uri": "https://localhost:8080/",
          "height": 17
        },
        "id": "yODwp1lR_TZD",
        "outputId": "69012892-cfd5-4435-921e-98518bc23052"
      },
      "execution_count": 72,
      "outputs": [
        {
          "output_type": "display_data",
          "data": {
            "application/javascript": [
              "\n",
              "    async function download(id, filename, size) {\n",
              "      if (!google.colab.kernel.accessAllowed) {\n",
              "        return;\n",
              "      }\n",
              "      const div = document.createElement('div');\n",
              "      const label = document.createElement('label');\n",
              "      label.textContent = `Downloading \"${filename}\": `;\n",
              "      div.appendChild(label);\n",
              "      const progress = document.createElement('progress');\n",
              "      progress.max = size;\n",
              "      div.appendChild(progress);\n",
              "      document.body.appendChild(div);\n",
              "\n",
              "      const buffers = [];\n",
              "      let downloaded = 0;\n",
              "\n",
              "      const channel = await google.colab.kernel.comms.open(id);\n",
              "      // Send a message to notify the kernel that we're ready.\n",
              "      channel.send({})\n",
              "\n",
              "      for await (const message of channel.messages) {\n",
              "        // Send a message to notify the kernel that we're ready.\n",
              "        channel.send({})\n",
              "        if (message.buffers) {\n",
              "          for (const buffer of message.buffers) {\n",
              "            buffers.push(buffer);\n",
              "            downloaded += buffer.byteLength;\n",
              "            progress.value = downloaded;\n",
              "          }\n",
              "        }\n",
              "      }\n",
              "      const blob = new Blob(buffers, {type: 'application/binary'});\n",
              "      const a = document.createElement('a');\n",
              "      a.href = window.URL.createObjectURL(blob);\n",
              "      a.download = filename;\n",
              "      div.appendChild(a);\n",
              "      a.click();\n",
              "      div.remove();\n",
              "    }\n",
              "  "
            ],
            "text/plain": [
              "<IPython.core.display.Javascript object>"
            ]
          },
          "metadata": {}
        },
        {
          "output_type": "display_data",
          "data": {
            "application/javascript": [
              "download(\"download_071e75cd-6b84-42d0-9ca8-a950d574247b\", \"elasticnet_predictions.csv\", 34542)"
            ],
            "text/plain": [
              "<IPython.core.display.Javascript object>"
            ]
          },
          "metadata": {}
        }
      ]
    },
    {
      "cell_type": "markdown",
      "source": [
        "![image.png](data:image/png;base64,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)"
      ],
      "metadata": {
        "id": "r2_2KGxt_lLi"
      }
    }
  ]
}